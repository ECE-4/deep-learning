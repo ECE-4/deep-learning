{
 "cells": [
  {
   "cell_type": "code",
   "execution_count": 1,
   "metadata": {},
   "outputs": [],
   "source": [
    "import numpy as np\n",
    "import tensorflow as tf"
   ]
  },
  {
   "cell_type": "code",
   "execution_count": 2,
   "metadata": {},
   "outputs": [
    {
     "name": "stdout",
     "output_type": "stream",
     "text": [
      "NumPy version 1.18.5\n",
      "Tensorflow version 2.3.1\n"
     ]
    }
   ],
   "source": [
    "print(\"NumPy version \" + np.__version__)\n",
    "print(\"Tensorflow version \" + tf.__version__)"
   ]
  },
  {
   "cell_type": "code",
   "execution_count": 7,
   "metadata": {},
   "outputs": [],
   "source": [
    "## Data Reading ##\n",
    "\n",
    "train_drug = tf.data.experimental.CsvDataset(\"data2/train_drug.csv\", \"float32\")\n",
    "train_features = tf.data.experimental.CsvDataset(\"data/train_features.csv\", \"float32\")\n",
    "train_targets_nonscored = tf.data.experimental.CsvDataset(\"data/train_targets_nonscored.csv\", \"float32\")\n",
    "train_targets_scored = tf.data.experimental.CsvDataset(\"data/train_targets_scored.csv\", \"float32\")"
   ]
  },
  {
   "cell_type": "code",
   "execution_count": 9,
   "metadata": {},
   "outputs": [
    {
     "data": {
      "text/plain": [
       "<CsvDatasetV2 shapes: ((), (), (), (), (), (), ()), types: (tf.string, tf.string, tf.string, tf.string, tf.string, tf.string, tf.string)>"
      ]
     },
     "execution_count": 9,
     "metadata": {},
     "output_type": "execute_result"
    }
   ],
   "source": [
    "train_drug"
   ]
  },
  {
   "cell_type": "code",
   "execution_count": null,
   "metadata": {},
   "outputs": [],
   "source": []
  }
 ],
 "metadata": {
  "kernelspec": {
   "display_name": "Python 3",
   "language": "python",
   "name": "python3"
  },
  "language_info": {
   "codemirror_mode": {
    "name": "ipython",
    "version": 3
   },
   "file_extension": ".py",
   "mimetype": "text/x-python",
   "name": "python",
   "nbconvert_exporter": "python",
   "pygments_lexer": "ipython3",
   "version": "3.7.9"
  }
 },
 "nbformat": 4,
 "nbformat_minor": 4
}
